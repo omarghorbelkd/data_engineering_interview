{
 "cells": [
  {
   "cell_type": "code",
   "execution_count": null,
   "metadata": {},
   "outputs": [],
   "source": [
    "% pip install duckdb"
   ]
  },
  {
   "cell_type": "code",
   "execution_count": null,
   "metadata": {},
   "outputs": [],
   "source": [
    "from duckdb.experimental.spark.sql import SparkSession\n",
    "from duckdb.experimental.spark.sql.functions import col, avg, when\n",
    "\n",
    "spark = SparkSession.builder \\\n",
    "    .appName(\"Interview PySpark Code\") \\\n",
    "    .getOrCreate()\n",
    "\n",
    "data = [\n",
    "    (\"Alice\", \"HR\", 3000),\n",
    "    (\"Bob\", \"Finance\", 4000),\n",
    "    (\"Charlie\", \"HR\", 3500),\n",
    "    (\"David@gmail.com\", \"IT\", 4500),\n",
    "    (\"Eve\", \"Finance\", 3800),\n",
    "    (\"Alice\", \"HR\", 5000),\n",
    "    (\"Frank\", None, 2900)\n",
    "]\n",
    "\n",
    "columns = [\"Name\", \"Department\", \"Salary\"]\n",
    "\n",
    "df = spark.createDataFrame(data, schema=columns)\n",
    "\n",
    "df_with_levels = df.withColumn(\n",
    "    \"Salary_Level\",\n",
    "    when(col(\"Salary\") < 3500, \"Low\")\n",
    "    .when((col(\"Salary\") >= 3500) & (col(\"Salary\") < 4000), \"Medium\")\n",
    "    .otherwise(\"High\")\n",
    ")\n",
    "\n",
    "average_salary = df_with_levels.groupBy(\"Department\") \\\n",
    "    .agg(avg(\"Salary\").alias(\"Average_Salary\"))\n",
    "\n"
   ]
  },
  {
   "cell_type": "code",
   "execution_count": null,
   "metadata": {},
   "outputs": [],
   "source": [
    "print(\"Original Data:\")\n",
    "df.show()"
   ]
  },
  {
   "cell_type": "code",
   "execution_count": null,
   "metadata": {},
   "outputs": [],
   "source": [
    "print(\"Data with Salary Levels:\")\n",
    "df_with_levels.show()"
   ]
  },
  {
   "cell_type": "code",
   "execution_count": null,
   "metadata": {},
   "outputs": [],
   "source": [
    "print(\"Average Salary by Department:\")\n",
    "average_salary.show()"
   ]
  },
  {
   "cell_type": "code",
   "execution_count": null,
   "metadata": {},
   "outputs": [],
   "source": [
    "spark.stop()"
   ]
  },
  {
   "cell_type": "code",
   "execution_count": null,
   "metadata": {},
   "outputs": [],
   "source": []
  }
 ],
 "metadata": {
  "kernelspec": {
   "display_name": "venv",
   "language": "python",
   "name": "python3"
  },
  "language_info": {
   "codemirror_mode": {
    "name": "ipython",
    "version": 3
   },
   "file_extension": ".py",
   "mimetype": "text/x-python",
   "name": "python",
   "nbconvert_exporter": "python",
   "pygments_lexer": "ipython3",
   "version": "3.12.5"
  }
 },
 "nbformat": 4,
 "nbformat_minor": 2
}
